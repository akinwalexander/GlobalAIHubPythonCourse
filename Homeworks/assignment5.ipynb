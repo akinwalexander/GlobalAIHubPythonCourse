{
 "metadata": {
  "language_info": {
   "codemirror_mode": {
    "name": "ipython",
    "version": 3
   },
   "file_extension": ".py",
   "mimetype": "text/x-python",
   "name": "python",
   "nbconvert_exporter": "python",
   "pygments_lexer": "ipython3",
   "version": "3.9.1-final"
  },
  "orig_nbformat": 2,
  "kernelspec": {
   "name": "python3",
   "display_name": "Python 3.9.1 64-bit",
   "metadata": {
    "interpreter": {
     "hash": "c1554f44614c56dab4469871b0ce3349f13f0e0a599ea5105d3f86561577ffbd"
    }
   }
  }
 },
 "nbformat": 4,
 "nbformat_minor": 2,
 "cells": [
  {
   "cell_type": "code",
   "execution_count": 76,
   "metadata": {},
   "outputs": [
    {
     "output_type": "stream",
     "name": "stdout",
     "text": [
      "These are domestic animal which makes a  bark sound\nThese are domestic animal which makes a  meow sound\n"
     ]
    }
   ],
   "source": [
    "#create three classes named animal dog and cats.\n",
    "# add some features to this classes.\n",
    "# create some functions with this attribute. don't forget you have to do it with inheritance\n",
    "\n",
    "class animal():\n",
    "    def  __init__(self,type,sound):\n",
    "        self.type= type\n",
    "        self.sound= sound\n",
    "    def detail(self):\n",
    "        print(\"These are\", self.type, \"animal which makes a \", self.sound, \"sound\")\n",
    "\n",
    "class dogs(animal):\n",
    "    pass\n",
    "dogs = dogs(\"domestic\", \"bark\")\n",
    "dogs.detail()\n",
    "\n",
    "class cats(animal):\n",
    "    pass\n",
    "cats= cats(\"domestic\", \"meow\")\n",
    "cats.detail()"
   ]
  },
  {
   "cell_type": "code",
   "execution_count": null,
   "metadata": {},
   "outputs": [],
   "source": []
  }
 ]
}