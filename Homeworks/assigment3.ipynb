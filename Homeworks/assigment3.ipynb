{
 "metadata": {
  "language_info": {
   "codemirror_mode": {
    "name": "ipython",
    "version": 3
   },
   "file_extension": ".py",
   "mimetype": "text/x-python",
   "name": "python",
   "nbconvert_exporter": "python",
   "pygments_lexer": "ipython3",
   "version": "3.9.1-final"
  },
  "orig_nbformat": 2,
  "kernelspec": {
   "name": "python3",
   "display_name": "Python 3.9.1 64-bit",
   "metadata": {
    "interpreter": {
     "hash": "c1554f44614c56dab4469871b0ce3349f13f0e0a599ea5105d3f86561577ffbd"
    }
   }
  }
 },
 "nbformat": 4,
 "nbformat_minor": 2,
 "cells": [
  {
   "cell_type": "code",
   "execution_count": 9,
   "metadata": {},
   "outputs": [
    {
     "output_type": "stream",
     "name": "stdout",
     "text": [
      "welcome, you are logged in\n"
     ]
    }
   ],
   "source": [
    "#stored user name\n",
    "username = \"alexander\"\n",
    "password = \"python\"\n",
    "\n",
    "#ask user for name and password\n",
    "name = input(\"username: \")\n",
    "Password = input(\"password: \")\n",
    "\n",
    "if (name != username and Password == password):\n",
    "    print(\"username mismatch\")\n",
    "elif (name == username and Password != password):\n",
    "        print(\"password mismatch\")\n",
    "elif (name != username and Password != password):\n",
    "     print(\"user is not registered\")\n",
    "else:\n",
    "    print(\"welcome, you are logged in\")\n",
    "    "
   ]
  },
  {
   "cell_type": "code",
   "execution_count": 37,
   "metadata": {},
   "outputs": [
    {
     "output_type": "stream",
     "name": "stdout",
     "text": [
      "welcome, you are logged in\n"
     ]
    }
   ],
   "source": [
    "#user name stored in dictionary\n",
    "userdetails = {\"alexander\": \"python\"}\n",
    "\n",
    "#ask user for name and password\n",
    "name = input(\"username: \")\n",
    "Password = input(\"password: \")\n",
    "\n",
    "for k, v in userdetails.items():\n",
    "    if k != name  and v == Password:\n",
    "        print(\"username mismatch\")\n",
    "        break\n",
    "    elif k == name  and v != Password :\n",
    "        print(\"password mismatch\")\n",
    "        break\n",
    "    elif k != name  and v != Password :\n",
    "        print(\"user is not registered\")\n",
    "        break\n",
    "    else:\n",
    "        print(\"welcome, you are logged in\")\n",
    "        break"
   ]
  },
  {
   "cell_type": "code",
   "execution_count": null,
   "metadata": {},
   "outputs": [],
   "source": []
  }
 ]
}