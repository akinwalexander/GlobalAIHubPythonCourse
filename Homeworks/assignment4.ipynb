{
 "metadata": {
  "language_info": {
   "codemirror_mode": {
    "name": "ipython",
    "version": 3
   },
   "file_extension": ".py",
   "mimetype": "text/x-python",
   "name": "python",
   "nbconvert_exporter": "python",
   "pygments_lexer": "ipython3",
   "version": "3.9.1-final"
  },
  "orig_nbformat": 2,
  "kernelspec": {
   "name": "python3",
   "display_name": "Python 3.9.1 64-bit",
   "metadata": {
    "interpreter": {
     "hash": "c1554f44614c56dab4469871b0ce3349f13f0e0a599ea5105d3f86561577ffbd"
    }
   }
  }
 },
 "nbformat": 4,
 "nbformat_minor": 2,
 "cells": [
  {
   "cell_type": "code",
   "execution_count": 13,
   "metadata": {},
   "outputs": [
    {
     "output_type": "stream",
     "name": "stdout",
     "text": [
      "0 2 3 5 7 11 13 17 19 23 29 31 37 41 43 47 53 59 61 67 71 73 79 83 89 97 "
     ]
    }
   ],
   "source": [
    "#prime number between 0 - 100 using functions\n",
    "\n",
    "def prime_number():\n",
    "    for numbers in range (0, 101):\n",
    "        prime_number = 0\n",
    "        for i in range(2,(numbers//2+1)):\n",
    "            if (numbers % i ==0):\n",
    "                prime_number +=1\n",
    "                break\n",
    "        if (prime_number==0 and numbers != 1):\n",
    "            print(\"%d\" %numbers, end=\" \" )\n",
    "prime_number()"
   ]
  },
  {
   "cell_type": "code",
   "execution_count": null,
   "metadata": {},
   "outputs": [],
   "source": []
  }
 ]
}