{
 "metadata": {
  "language_info": {
   "codemirror_mode": {
    "name": "ipython",
    "version": 3
   },
   "file_extension": ".py",
   "mimetype": "text/x-python",
   "name": "python",
   "nbconvert_exporter": "python",
   "pygments_lexer": "ipython3",
   "version": "3.9.1-final"
  },
  "orig_nbformat": 2,
  "kernelspec": {
   "name": "python3",
   "display_name": "Python 3.9.1 64-bit",
   "metadata": {
    "interpreter": {
     "hash": "c1554f44614c56dab4469871b0ce3349f13f0e0a599ea5105d3f86561577ffbd"
    }
   }
  }
 },
 "nbformat": 4,
 "nbformat_minor": 2,
 "cells": [
  {
   "cell_type": "code",
   "execution_count": 11,
   "metadata": {},
   "outputs": [
    {
     "output_type": "stream",
     "name": "stdout",
     "text": [
      "mr  john speaks english\n"
     ]
    }
   ],
   "source": [
    "#project\n",
    "\n",
    "#company management system- determine the names and age of employees\n",
    "#company managers,and language they speak. then write a program\n",
    "#that will print the language that any of the employees can speak\n",
    "#in this project, complete the project by creating two classes named employees and manager\n",
    "\n",
    "class manager():\n",
    "    def __init__(self,name,age, language):\n",
    "        self.name= name\n",
    "        self.age= age\n",
    "        self.language= language\n",
    "    def managerDetails(self):\n",
    "        Print(\"manager\", self.name,  \"speaks \", self.language)\n",
    "\n",
    "\n",
    "class employee():\n",
    "    def __init__(self,employee_name,employee_age,employee_language):\n",
    "        self.employee_name = employee_name\n",
    "        self.employee_age= employee_age\n",
    "        self.employee_language = employee_language\n",
    "    def employeeDetails(self):\n",
    "        print(\"mr \", self.employee_name, \"speaks\", self.employee_language)\n",
    "\n",
    "\n",
    "manager1= manager(\"alex\", \"30\", \"french\")\n",
    "manager2= manager(\"jeda\", \"50\", \"spanish\")\n",
    "manger_dict = {\n",
    "    \"manager1\":{\"person\":manager1},\n",
    "    \"manager2\":{\"person2\":manager2}\n",
    "                }\n",
    "\n",
    "employee1= employee(\"john\",\"25\", \"english\")\n",
    "employee2= employee(\"robert\",\"32\",\"latin\")\n",
    "\n",
    "employee_dict = {\n",
    "    \"employee1\":{\"worker\":employee1},\n",
    "    \"employee2\":{\"worker2\":employee2}\n",
    "        }\n",
    "employee_dict[\"employee1\"][\"worker\"].employeeDetails()"
   ]
  },
  {
   "cell_type": "code",
   "execution_count": null,
   "metadata": {},
   "outputs": [],
   "source": []
  }
 ]
}